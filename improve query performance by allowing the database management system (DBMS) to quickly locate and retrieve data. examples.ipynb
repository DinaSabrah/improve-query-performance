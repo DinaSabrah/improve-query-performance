{
 "cells": [
  {
   "cell_type": "markdown",
   "id": "0830330e",
   "metadata": {},
   "source": [
    "improve query performance by allowing the database management system (DBMS) to quickly locate and retrieve data. Here are some indexing strategies and examples:"
   ]
  },
  {
   "cell_type": "markdown",
   "id": "a02eb37a",
   "metadata": {},
   "source": [
    "1. Single-Column Index:"
   ]
  },
  {
   "cell_type": "code",
   "execution_count": null,
   "id": "b2eeb332",
   "metadata": {},
   "outputs": [],
   "source": [
    "-- Create an index on the 'last_name' column in the 'employees' table\n",
    "CREATE INDEX idx_last_name ON employees(last_name);\n"
   ]
  },
  {
   "cell_type": "markdown",
   "id": "108ffdc0",
   "metadata": {},
   "source": [
    "2. Composite Index:"
   ]
  },
  {
   "cell_type": "code",
   "execution_count": null,
   "id": "e5bb0c96",
   "metadata": {},
   "outputs": [],
   "source": [
    "-- Create a composite index on 'first_name' and 'last_name' columns in the 'employees' table\n",
    "CREATE INDEX idx_full_name ON employees(first_name, last_name);\n"
   ]
  },
  {
   "cell_type": "markdown",
   "id": "b84206cb",
   "metadata": {},
   "source": [
    "3. Unique Index:"
   ]
  },
  {
   "cell_type": "code",
   "execution_count": null,
   "id": "2319b55b",
   "metadata": {},
   "outputs": [],
   "source": [
    "-- Create a unique index on the 'email' column in the 'users' table\n",
    "CREATE UNIQUE INDEX idx_unique_email ON users(email);\n"
   ]
  },
  {
   "cell_type": "markdown",
   "id": "79ac9932",
   "metadata": {},
   "source": [
    "4. Partial Index:"
   ]
  },
  {
   "cell_type": "code",
   "execution_count": null,
   "id": "2f717a2b",
   "metadata": {},
   "outputs": [],
   "source": [
    "-- Create a partial index on the 'last_name' column for active employees in the 'employees' table\n",
    "CREATE INDEX idx_active_employees ON employees(last_name) WHERE is_active = true;\n"
   ]
  },
  {
   "cell_type": "markdown",
   "id": "a338d380",
   "metadata": {},
   "source": [
    "5. Clustered Index (Primary Key in SQL Server):"
   ]
  },
  {
   "cell_type": "code",
   "execution_count": null,
   "id": "5a07aa34",
   "metadata": {},
   "outputs": [],
   "source": [
    "-- Create a primary key (clustered index) on the 'primary_key_column' in SQL Server\n",
    "-- SQL Server automatically creates a clustered index when defining a primary key\n",
    "ALTER TABLE your_table\n",
    "ADD CONSTRAINT pk_primary_key PRIMARY KEY (primary_key_column);\n"
   ]
  },
  {
   "cell_type": "markdown",
   "id": "8ad50d40",
   "metadata": {},
   "source": [
    "6. Covering Index:"
   ]
  },
  {
   "cell_type": "code",
   "execution_count": null,
   "id": "2bb5711d",
   "metadata": {},
   "outputs": [],
   "source": [
    "-- Create a covering index on 'customer_id' and 'order_date' with the 'total_amount' included\n",
    "CREATE INDEX idx_covering_index ON orders(customer_id, order_date) INCLUDE (total_amount);\n"
   ]
  },
  {
   "cell_type": "markdown",
   "id": "4a954ab9",
   "metadata": {},
   "source": [
    "7. Bitmap Index (Oracle):"
   ]
  },
  {
   "cell_type": "code",
   "execution_count": null,
   "id": "67e7f074",
   "metadata": {},
   "outputs": [],
   "source": [
    "-- Create a bitmap index on the 'gender' column in Oracle\n",
    "CREATE BITMAP INDEX idx_gender ON employees(gender);\n"
   ]
  },
  {
   "cell_type": "markdown",
   "id": "51971b0c",
   "metadata": {},
   "source": [
    "8. Function-Based Index (Oracle):"
   ]
  },
  {
   "cell_type": "code",
   "execution_count": null,
   "id": "58f49b20",
   "metadata": {},
   "outputs": [],
   "source": [
    "-- Create a function-based index to store uppercase full names in Oracle\n",
    "CREATE INDEX idx_full_name ON employees(UPPER(first_name || ' ' || last_name));\n"
   ]
  },
  {
   "cell_type": "markdown",
   "id": "298c9f4f",
   "metadata": {},
   "source": [
    "9. Spatial Index (PostGIS for PostgreSQL):"
   ]
  },
  {
   "cell_type": "code",
   "execution_count": null,
   "id": "aef794df",
   "metadata": {},
   "outputs": [],
   "source": [
    "-- Create a spatial index on the 'geom_column' using GIST in PostGIS\n",
    "CREATE INDEX idx_spatial_geom ON spatial_data USING GIST(geom_column);\n"
   ]
  },
  {
   "cell_type": "markdown",
   "id": "0fb2f7c4",
   "metadata": {},
   "source": [
    "10. Text Search Index (PostgreSQL):"
   ]
  },
  {
   "cell_type": "code",
   "execution_count": null,
   "id": "6a365b1e",
   "metadata": {},
   "outputs": [],
   "source": [
    "-- Create a full-text search index on the 'content' column in PostgreSQL\n",
    "CREATE INDEX idx_text_search ON articles USING GIN(to_tsvector('english', content));\n"
   ]
  }
 ],
 "metadata": {
  "kernelspec": {
   "display_name": "Python 3 (ipykernel)",
   "language": "python",
   "name": "python3"
  },
  "language_info": {
   "codemirror_mode": {
    "name": "ipython",
    "version": 3
   },
   "file_extension": ".py",
   "mimetype": "text/x-python",
   "name": "python",
   "nbconvert_exporter": "python",
   "pygments_lexer": "ipython3",
   "version": "3.9.7"
  }
 },
 "nbformat": 4,
 "nbformat_minor": 5
}
